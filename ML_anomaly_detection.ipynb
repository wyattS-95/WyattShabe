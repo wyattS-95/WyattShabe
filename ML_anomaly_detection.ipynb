{
  "nbformat": 4,
  "nbformat_minor": 0,
  "metadata": {
    "colab": {
      "provenance": []
    },
    "kernelspec": {
      "name": "python3",
      "display_name": "Python 3"
    },
    "language_info": {
      "name": "python"
    }
  },
  "cells": [
    {
      "cell_type": "markdown",
      "source": [
        "machine learning model to detect anomalies in simulated sensor data"
      ],
      "metadata": {
        "id": "djg5Dj6wwjo7"
      }
    },
    {
      "cell_type": "code",
      "execution_count": null,
      "metadata": {
        "id": "8clOLwaHwAuE"
      },
      "outputs": [],
      "source": [
        "!pip install -q pandas numpy scikit-learn matplotlib seaborn streamlit"
      ]
    },
    {
      "cell_type": "markdown",
      "source": [
        "create synthetic dataset with 1000 normal readings and 50 anomalous readings"
      ],
      "metadata": {
        "id": "ftFsbCJPwyfu"
      }
    },
    {
      "cell_type": "code",
      "source": [
        "import numpy as np\n",
        "import pandas as pd\n",
        "\n",
        "# set random seed for reproducibility\n",
        "np.random.seed(42)\n",
        "\n",
        "# generate normal data (temperature between 20–30°C)\n",
        "normal_data = np.random.normal(loc=25, scale=2, size=1000)\n",
        "\n",
        "# generate anomalies (temperature between 50–60°C)\n",
        "anomalies = np.random.normal(loc=55, scale=3, size=50)\n",
        "\n",
        "# combine data\n",
        "data = np.concatenate([normal_data, anomalies])\n",
        "time_index = pd.date_range(start='2025-06-01', periods=len(data), freq='T')  # timestamp every minute\n",
        "df = pd.DataFrame({'timestamp': time_index, 'temperature': data})\n",
        "\n",
        "# shuffle data to mix anomalies\n",
        "df = df.sample(frac=1, random_state=42).reset_index(drop=True)\n",
        "\n",
        "# label anomalies for evaluation (for supervised testing)\n",
        "df['is_anomaly'] = df['temperature'].apply(lambda x: 1 if x > 40 else 0)\n",
        "\n",
        "# save to CSV\n",
        "df.to_csv('sensor_data.csv', index=False)\n",
        "print(\"Data generated and saved to sensor_data.csv\")"
      ],
      "metadata": {
        "id": "DvgUVXTrx1N3"
      },
      "execution_count": null,
      "outputs": []
    },
    {
      "cell_type": "markdown",
      "source": [
        "preprocess the data"
      ],
      "metadata": {
        "id": "Kt-cc2sEydJ3"
      }
    },
    {
      "cell_type": "code",
      "source": [
        "# load data\n",
        "df = pd.read_csv('sensor_data.csv')\n",
        "\n",
        "# convert timestamp to datetime\n",
        "df['timestamp'] = pd.to_datetime(df['timestamp'])\n",
        "\n",
        "# check for missing values\n",
        "print(df.isnull().sum())\n",
        "\n",
        "# normalize temperature\n",
        "from sklearn.preprocessing import StandardScaler\n",
        "scaler = StandardScaler()\n",
        "df['temperature_scaled'] = scaler.fit_transform(df[['temperature']])"
      ],
      "metadata": {
        "id": "11rmu9-Fy7zX"
      },
      "execution_count": null,
      "outputs": []
    },
    {
      "cell_type": "code",
      "source": [
        "# training data: only normal data (temperature <= 40°C)\n",
        "train_data = df[df['is_anomaly'] == 0][['temperature_scaled']]\n",
        "test_data = df[['temperature_scaled']]"
      ],
      "metadata": {
        "id": "XmRlBNbZzFKG"
      },
      "execution_count": null,
      "outputs": []
    },
    {
      "cell_type": "markdown",
      "source": [
        "build and train isolation forest model"
      ],
      "metadata": {
        "id": "6FNvpbPP2asq"
      }
    },
    {
      "cell_type": "code",
      "source": [
        "from sklearn.ensemble import IsolationForest\n",
        "\n",
        "# initialize model\n",
        "model = IsolationForest(contamination=0.01, random_state=42)  # expect 1% anomalies\n",
        "\n",
        "# fit model on training data\n",
        "model.fit(train_data)\n",
        "\n",
        "# predict anomalies on test data (-1 for anomalies, 1 for normal)\n",
        "df['anomaly_pred'] = model.predict(test_data)\n",
        "df['anomaly_pred'] = df['anomaly_pred'].map({1: 0, -1: 1})  # convert to 0 (normal), 1 (anomaly)"
      ],
      "metadata": {
        "id": "37d7VoRs2u9k"
      },
      "execution_count": null,
      "outputs": []
    },
    {
      "cell_type": "markdown",
      "source": [
        "evaluate model"
      ],
      "metadata": {
        "id": "XOppQh303MqF"
      }
    },
    {
      "cell_type": "code",
      "source": [
        "# calculate metrics\n",
        "from sklearn.metrics import precision_score, recall_score, f1_score\n",
        "\n",
        "precision = precision_score(df['is_anomaly'], df['anomaly_pred']) * 100\n",
        "recall = recall_score(df['is_anomaly'], df['anomaly_pred']) * 100\n",
        "f1 = f1_score(df['is_anomaly'], df['anomaly_pred']) * 100\n",
        "\n",
        "print(f\"Precision: {precision:.2f} %\")\n",
        "print(f\"Recall: {recall:.2f} %\")\n",
        "print(f\"F1-Score: {f1:.2f} %\")"
      ],
      "metadata": {
        "id": "c4MU6I3w3ORv"
      },
      "execution_count": null,
      "outputs": []
    },
    {
      "cell_type": "code",
      "source": [
        "# visualize results\n",
        "import matplotlib.pyplot as plt\n",
        "import seaborn as sns\n",
        "\n",
        "plt.figure(figsize=(12, 6))\n",
        "sns.scatterplot(x=df['timestamp'], y=df['temperature'], hue=df['anomaly_pred'],\n",
        "                palette={0: 'blue', 1: 'red'}, style=df['anomaly_pred'])\n",
        "\n",
        "plt.title('Anomaly Detection in Sensor Data')\n",
        "\n",
        "plt.xlabel('Timestamp')\n",
        "plt.ylabel('Temperature (°C)')\n",
        "\n",
        "plt.legend(['Normal', 'Anomaly'])\n",
        "\n",
        "plt.xticks(rotation=45)\n",
        "plt.tight_layout()\n",
        "plt.savefig('anomaly_plot.png')\n",
        "plt.show()"
      ],
      "metadata": {
        "id": "HwDcdTqp3WsB"
      },
      "execution_count": null,
      "outputs": []
    }
  ]
}