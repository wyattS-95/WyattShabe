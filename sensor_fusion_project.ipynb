{
  "nbformat": 4,
  "nbformat_minor": 0,
  "metadata": {
    "colab": {
      "provenance": []
    },
    "kernelspec": {
      "name": "python3",
      "display_name": "Python 3"
    },
    "language_info": {
      "name": "python"
    }
  },
  "cells": [
    {
      "cell_type": "markdown",
      "source": [
        "Objective: Build a Python-based prototype that fuses simulated radar and infrared sensor data to track a moving object (e.g., a drone) and visualize its trajectory on a 2D plot, demonstrating basic situational awareness for an Air Force scenario."
      ],
      "metadata": {
        "id": "W-b5RXZEIS1u"
      }
    },
    {
      "cell_type": "code",
      "execution_count": null,
      "metadata": {
        "id": "rUcSde7kHO_O"
      },
      "outputs": [],
      "source": [
        "# install libraries\n",
        "!pip install -q numpy pandas matplotlib filterpy"
      ]
    },
    {
      "cell_type": "code",
      "source": [
        "# import libraries\n",
        "import numpy as np\n",
        "import pandas as pd\n",
        "import matplotlib.pyplot as plt\n",
        "import filterpy.kalman"
      ],
      "metadata": {
        "id": "0vcXGM5jH7K8"
      },
      "execution_count": null,
      "outputs": []
    },
    {
      "cell_type": "markdown",
      "source": [
        "Step 1: Generate Synthetic Data\n",
        "\n",
        "Goal: Create a dataset simulating a drone’s true 2D path and noisy sensor measurements (radar, infrared)."
      ],
      "metadata": {
        "id": "n-ufwPvnJGz-"
      }
    },
    {
      "cell_type": "code",
      "source": [
        "# define drone path\n",
        "# simulate drone moving in straight line\n",
        "\n",
        "# 0 to 100 seconds\n",
        "t = np.arange(0, 101, 1)\n",
        "\n",
        "# true positions\n",
        "# x axis = t, y axis = 0.5t\n",
        "true_x = t\n",
        "true_y = 0.5 * t\n",
        "true_positions = np.column_stack((true_x, true_y))"
      ],
      "metadata": {
        "id": "fashZdqNJRlE"
      },
      "execution_count": null,
      "outputs": []
    },
    {
      "cell_type": "code",
      "source": [
        "# noisy sensor data\n",
        "# radar = 0.5\n",
        "# infrared = 0.3 (less noisy than radar)\n",
        "\n",
        "np.random.seed(42)  # for reproducibility\n",
        "\n",
        "# radar\n",
        "radar_x = true_x + np.random.normal(0, 0.5, len(t))\n",
        "radar_y = true_y + np.random.normal(0, 0.5, len(t))\n",
        "radar_measurements = np.column_stack((radar_x, radar_y))\n",
        "\n",
        "# infrared\n",
        "ir_x = true_x + np.random.normal(0, 0.3, len(t))\n",
        "ir_y = true_y + np.random.normal(0, 0.3, len(t))\n",
        "ir_measurements = np.column_stack((ir_x, ir_y))"
      ],
      "metadata": {
        "id": "nQJYwJTsKO-C"
      },
      "execution_count": null,
      "outputs": []
    },
    {
      "cell_type": "code",
      "source": [
        "# save to df\n",
        "data = pd.DataFrame({\n",
        "    'time': t,\n",
        "    'true_x': true_x,\n",
        "    'true_y': true_y,\n",
        "    'radar_x': radar_x,\n",
        "    'radar_y': radar_y,\n",
        "    'ir_x': ir_x,\n",
        "    'ir_y': ir_y\n",
        "})\n",
        "\n",
        "# save for reference\n",
        "data.to_csv('sensor_data.csv', index=False)"
      ],
      "metadata": {
        "id": "QnGzHoXiKsXm"
      },
      "execution_count": null,
      "outputs": []
    },
    {
      "cell_type": "code",
      "source": [
        "# test data\n",
        "# expected output: a plot with a blue line (true path), scattered red dots (radar), and green dots (ir) around it. If dots are too far from the line, adjust noise levels\n",
        "\n",
        "plt.scatter(data['radar_x'], data['radar_y'], c='red', label='Radar', alpha=0.5)\n",
        "plt.scatter(data['ir_x'], data['ir_y'], c='green', label='IR', alpha=0.5)\n",
        "\n",
        "plt.plot(data['true_x'], data['true_y'], 'b-', label='True Path')\n",
        "\n",
        "plt.xlabel('X Position')\n",
        "plt.ylabel('Y Position')\n",
        "\n",
        "plt.title('Raw Sensor Data vs True Path')\n",
        "\n",
        "plt.legend()\n",
        "plt.grid(True)\n",
        "plt.show()"
      ],
      "metadata": {
        "id": "FDU0tHTDK5ZJ"
      },
      "execution_count": null,
      "outputs": []
    },
    {
      "cell_type": "markdown",
      "source": [
        "Step 2: Implement Data Fusion with Kalman Filter\n",
        "\n",
        "Goal: Use a Kalman Filter to fuse radar and IR measurements and estimate the drone’s true position."
      ],
      "metadata": {
        "id": "0pp0_dSyW2C-"
      }
    },
    {
      "cell_type": "code",
      "source": [
        "# set up kalman filter:\n",
        "#   state: [x, y, vx, vy] (position and velocity in x, y).\n",
        "#   measurements: [x, y] from radar or ir.\n",
        "\n",
        "from filterpy.kalman import KalmanFilter\n",
        "from filterpy.common import Q_discrete_white_noise\n",
        "\n",
        "# kalman filter\n",
        "kf = KalmanFilter(dim_x=4, dim_z=2)  # 4 state variables, 2 measurements\n",
        "\n",
        "# state transition matrix (constant velocity model)\n",
        "dt = 1.0  # time step\n",
        "kf.F = np.array([[1, 0, dt, 0],\n",
        "                 [0, 1, 0, dt],\n",
        "                 [0, 0, 1, 0],\n",
        "                 [0, 0, 0, 1]])\n",
        "\n",
        "# measurement matrix (observe x, y)\n",
        "kf.H = np.array([[1, 0, 0, 0],\n",
        "                 [0, 1, 0, 0]])\n",
        "\n",
        "# initial state (start at first true position, zero velocity)\n",
        "kf.x = np.array([true_x[0], true_y[0], 0, 0])\n",
        "\n",
        "# state covariance (initial uncertainty)\n",
        "kf.P *= 10\n",
        "\n",
        "# measurement noise covariance (combine radar and IR noise)\n",
        "kf.R = np.array([[0.4, 0], [0, 0.4]])  # average of radar (0.5) and IR (0.3)\n",
        "\n",
        "# process noise\n",
        "kf.Q = Q_discrete_white_noise(dim=2, dt=dt, var=0.01, block_size=2)"
      ],
      "metadata": {
        "id": "Qq7WlDJIW5i1"
      },
      "execution_count": null,
      "outputs": []
    },
    {
      "cell_type": "code",
      "source": [
        "# fuse measurements\n",
        "fused_positions = []\n",
        "\n",
        "for i in range(len(t)):\n",
        "    # predict step\n",
        "    kf.predict()\n",
        "    # update with averaged measurements\n",
        "    z = (radar_measurements[i] + ir_measurements[i]) / 2\n",
        "    kf.update(z)\n",
        "    # save fused position\n",
        "    fused_positions.append(kf.x[:2])\n",
        "\n",
        "fused_positions = np.array(fused_positions)\n",
        "\n",
        "# add to df\n",
        "data['fused_x'] = fused_positions[:, 0]\n",
        "data['fused_y'] = fused_positions[:, 1]"
      ],
      "metadata": {
        "id": "n8Xz90OSZFL7"
      },
      "execution_count": null,
      "outputs": []
    },
    {
      "cell_type": "code",
      "source": [
        "# test fusion\n",
        "# expected output: black dashed line (fused path) should be closer to the blue line (true path) than the scattered dots.\n",
        "#   if the fused path is erratic, tweak kf.R or kf.Q (e.g., increase measurement noise to 0.5 or reduce process noise to 0.005).\n",
        "\n",
        "plt.scatter(data['radar_x'], data['radar_y'], c='red', label='Radar', alpha=0.3)\n",
        "plt.scatter(data['ir_x'], data['ir_y'], c='green', label='IR', alpha=0.3)\n",
        "\n",
        "plt.plot(data['true_x'], data['true_y'], 'b-', label='True Path')\n",
        "plt.plot(data['fused_x'], data['fused_y'], 'k--', label='Fused Path')\n",
        "\n",
        "plt.xlabel('X Position')\n",
        "plt.ylabel('Y Position')\n",
        "\n",
        "plt.title('Fused Trajectory vs True Path')\n",
        "\n",
        "plt.legend()\n",
        "plt.grid(True)\n",
        "plt.show()"
      ],
      "metadata": {
        "id": "zHrrRUk4Z3GL"
      },
      "execution_count": null,
      "outputs": []
    },
    {
      "cell_type": "markdown",
      "source": [
        "Step 3: Evaluate Results\n",
        "\n",
        "Goal: Quantify fusion performance using Mean Squared Error (MSE)."
      ],
      "metadata": {
        "id": "L3Pc99aNTF2c"
      }
    },
    {
      "cell_type": "code",
      "source": [
        "# compute MSE: compare true positions to radar, ir, and fused positions\n",
        "# expected output: MSE for fused positions should be lower than for radar or ir (e.g., ~0.1 vs. ~0.25 for radar, ~0.09 for IR)\n",
        "\n",
        "from sklearn.metrics import mean_squared_error\n",
        "\n",
        "mse_radar = mean_squared_error(data[['true_x', 'true_y']], data[['radar_x', 'radar_y']])\n",
        "mse_ir = mean_squared_error(data[['true_x', 'true_y']], data[['ir_x', 'ir_y']])\n",
        "mse_fused = mean_squared_error(data[['true_x', 'true_y']], data[['fused_x', 'fused_y']])\n",
        "\n",
        "print(f\"MSE Radar: {mse_radar:.4f}\")\n",
        "print(f\"MSE IR: {mse_ir:.4f}\")\n",
        "print(f\"MSE Fused: {mse_fused:.4f}\")"
      ],
      "metadata": {
        "id": "L4FAVHo1TJxl"
      },
      "execution_count": null,
      "outputs": []
    },
    {
      "cell_type": "markdown",
      "source": [
        "Test Robustness:\n",
        "Add more noise to one sensor (e.g., radar std=1.0) and rerun. The fused path should still track reasonably well."
      ],
      "metadata": {
        "id": "1QerPOJeTvTd"
      }
    },
    {
      "cell_type": "markdown",
      "source": [
        "Step 4: Visualize Results\n",
        "\n",
        "Goal: Create a polished situational awareness plot."
      ],
      "metadata": {
        "id": "BX94AKFLT1zR"
      }
    },
    {
      "cell_type": "code",
      "source": [
        "plt.figure(figsize=(8, 6))\n",
        "\n",
        "plt.scatter(data['radar_x'], data['radar_y'], c='red', label='Radar', alpha=0.3, s=20)\n",
        "plt.scatter(data['ir_x'], data['ir_y'], c='green', label='IR', alpha=0.3, s=20)\n",
        "\n",
        "plt.plot(data['true_x'], data['true_y'], 'b-', label='True Path', linewidth=2)\n",
        "plt.plot(data['fused_x'], data['fused_y'], 'k--', label='Fused Path', linewidth=2)\n",
        "\n",
        "plt.xlabel('X Position (m)')\n",
        "plt.ylabel('Y Position (m)')\n",
        "\n",
        "plt.title('Drone Tracking with Sensor Fusion')\n",
        "\n",
        "plt.legend()\n",
        "plt.grid(True)\n",
        "plt.savefig('tracking_result.png', dpi=300)\n",
        "plt.show()"
      ],
      "metadata": {
        "id": "Sk6tLzFQTy1v"
      },
      "execution_count": null,
      "outputs": []
    }
  ]
}